{
 "cells": [
  {
   "cell_type": "code",
   "execution_count": 4,
   "metadata": {},
   "outputs": [],
   "source": [
    "import pandas as pd\n",
    "from sklearn.feature_extraction.text import TfidfVectorizer"
   ]
  },
  {
   "cell_type": "code",
   "execution_count": 41,
   "metadata": {},
   "outputs": [],
   "source": [
    "documentA = 'the man went out for a walk with another man'\n",
    "documentB = 'the dog sat around the fire grill to see the dogs next house'"
   ]
  },
  {
   "cell_type": "code",
   "execution_count": 42,
   "metadata": {},
   "outputs": [
    {
     "data": {
      "text/plain": [
       "['the', 'man', 'went', 'out', 'for', 'a', 'walk', 'with', 'another', 'man']"
      ]
     },
     "execution_count": 42,
     "metadata": {},
     "output_type": "execute_result"
    }
   ],
   "source": [
    "bagOfWordsA = documentA.split(' ')\n",
    "bagOfWordsA"
   ]
  },
  {
   "cell_type": "code",
   "execution_count": 43,
   "metadata": {},
   "outputs": [
    {
     "data": {
      "text/plain": [
       "['the',\n",
       " 'dog',\n",
       " 'sat',\n",
       " 'around',\n",
       " 'the',\n",
       " 'fire',\n",
       " 'grill',\n",
       " 'to',\n",
       " 'see',\n",
       " 'the',\n",
       " 'dogs',\n",
       " 'next',\n",
       " 'house']"
      ]
     },
     "execution_count": 43,
     "metadata": {},
     "output_type": "execute_result"
    }
   ],
   "source": [
    "bagOfWordsB = documentB.split(' ')\n",
    "bagOfWordsB"
   ]
  },
  {
   "cell_type": "code",
   "execution_count": 44,
   "metadata": {},
   "outputs": [
    {
     "data": {
      "text/plain": [
       "{'a', 'another', 'for', 'man', 'out', 'the', 'walk', 'went', 'with'}"
      ]
     },
     "execution_count": 44,
     "metadata": {},
     "output_type": "execute_result"
    }
   ],
   "source": [
    "set(bagOfWordsA)"
   ]
  },
  {
   "cell_type": "code",
   "execution_count": 45,
   "metadata": {},
   "outputs": [
    {
     "data": {
      "text/plain": [
       "{'a',\n",
       " 'another',\n",
       " 'around',\n",
       " 'dog',\n",
       " 'dogs',\n",
       " 'fire',\n",
       " 'for',\n",
       " 'grill',\n",
       " 'house',\n",
       " 'man',\n",
       " 'next',\n",
       " 'out',\n",
       " 'sat',\n",
       " 'see',\n",
       " 'the',\n",
       " 'to',\n",
       " 'walk',\n",
       " 'went',\n",
       " 'with'}"
      ]
     },
     "execution_count": 45,
     "metadata": {},
     "output_type": "execute_result"
    }
   ],
   "source": [
    "uniqueWords = set(bagOfWordsA).union(set(bagOfWordsB))\n",
    "uniqueWords"
   ]
  },
  {
   "cell_type": "code",
   "execution_count": 46,
   "metadata": {},
   "outputs": [
    {
     "data": {
      "text/plain": [
       "{'walk': 0,\n",
       " 'a': 0,\n",
       " 'another': 0,\n",
       " 'sat': 0,\n",
       " 'to': 0,\n",
       " 'dogs': 0,\n",
       " 'next': 0,\n",
       " 'around': 0,\n",
       " 'the': 0,\n",
       " 'for': 0,\n",
       " 'grill': 0,\n",
       " 'man': 0,\n",
       " 'dog': 0,\n",
       " 'out': 0,\n",
       " 'with': 0,\n",
       " 'fire': 0,\n",
       " 'went': 0,\n",
       " 'see': 0,\n",
       " 'house': 0}"
      ]
     },
     "execution_count": 46,
     "metadata": {},
     "output_type": "execute_result"
    }
   ],
   "source": [
    "dict.fromkeys(uniqueWords, 0)  # Q. why the sequence order changes???"
   ]
  },
  {
   "cell_type": "code",
   "execution_count": 47,
   "metadata": {},
   "outputs": [
    {
     "data": {
      "text/plain": [
       "{'walk': 1,\n",
       " 'a': 1,\n",
       " 'another': 1,\n",
       " 'sat': 0,\n",
       " 'to': 0,\n",
       " 'dogs': 0,\n",
       " 'next': 0,\n",
       " 'around': 0,\n",
       " 'the': 1,\n",
       " 'for': 1,\n",
       " 'grill': 0,\n",
       " 'man': 2,\n",
       " 'dog': 0,\n",
       " 'out': 1,\n",
       " 'with': 1,\n",
       " 'fire': 0,\n",
       " 'went': 1,\n",
       " 'see': 0,\n",
       " 'house': 0}"
      ]
     },
     "execution_count": 47,
     "metadata": {},
     "output_type": "execute_result"
    }
   ],
   "source": [
    "numOfWordsA = dict.fromkeys(uniqueWords, 0)\n",
    "\n",
    "for word in bagOfWordsA:\n",
    "    numOfWordsA[word] += 1\n",
    "\n",
    "numOfWordsA"
   ]
  },
  {
   "cell_type": "code",
   "execution_count": 19,
   "metadata": {},
   "outputs": [
    {
     "data": {
      "text/plain": [
       "{'man': 0,\n",
       " 'walk': 0,\n",
       " 'grill': 1,\n",
       " 'out': 0,\n",
       " 'a': 0,\n",
       " 'sat': 1,\n",
       " 'fire': 1,\n",
       " 'went': 0,\n",
       " 'dogs': 1,\n",
       " 'around': 1,\n",
       " 'the': 2,\n",
       " 'for': 0}"
      ]
     },
     "execution_count": 19,
     "metadata": {},
     "output_type": "execute_result"
    }
   ],
   "source": [
    "numOfWordsB = dict.fromkeys(uniqueWords, 0)\n",
    "\n",
    "for word in bagOfWordsB:\n",
    "    numOfWordsB[word] += 1\n",
    "\n",
    "numOfWordsB"
   ]
  },
  {
   "cell_type": "code",
   "execution_count": 23,
   "metadata": {},
   "outputs": [],
   "source": [
    "from nltk.corpus import stopwords"
   ]
  },
  {
   "cell_type": "code",
   "execution_count": 37,
   "metadata": {},
   "outputs": [],
   "source": [
    "# stopwords.words('english')"
   ]
  },
  {
   "cell_type": "code",
   "execution_count": 48,
   "metadata": {},
   "outputs": [
    {
     "data": {
      "text/plain": [
       "dict_items([('walk', 1), ('a', 1), ('another', 1), ('sat', 0), ('to', 0), ('dogs', 0), ('next', 0), ('around', 0), ('the', 1), ('for', 1), ('grill', 0), ('man', 2), ('dog', 0), ('out', 1), ('with', 1), ('fire', 0), ('went', 1), ('see', 0), ('house', 0)])"
      ]
     },
     "execution_count": 48,
     "metadata": {},
     "output_type": "execute_result"
    }
   ],
   "source": [
    "numOfWordsA.items()"
   ]
  },
  {
   "cell_type": "code",
   "execution_count": 49,
   "metadata": {},
   "outputs": [
    {
     "name": "stdout",
     "output_type": "stream",
     "text": [
      "word: walk, count: 1\n",
      "word: a, count: 1\n",
      "word: another, count: 1\n",
      "word: sat, count: 0\n",
      "word: to, count: 0\n",
      "word: dogs, count: 0\n",
      "word: next, count: 0\n",
      "word: around, count: 0\n",
      "word: the, count: 1\n",
      "word: for, count: 1\n",
      "word: grill, count: 0\n",
      "word: man, count: 2\n",
      "word: dog, count: 0\n",
      "word: out, count: 1\n",
      "word: with, count: 1\n",
      "word: fire, count: 0\n",
      "word: went, count: 1\n",
      "word: see, count: 0\n",
      "word: house, count: 0\n"
     ]
    }
   ],
   "source": [
    "for word, count in numOfWordsA.items():\n",
    "    print('word:', word, end=\", \")\n",
    "    print('count:', count)"
   ]
  },
  {
   "cell_type": "code",
   "execution_count": 50,
   "metadata": {},
   "outputs": [],
   "source": [
    "# Term Frequency (TF): \n",
    "# The number of times a word appears in a document divded by the total number of words in the document.\n",
    "\n",
    "def computeTF(wordDict, bagOfWords):\n",
    "    tfDict = {}\n",
    "    bagOfWordsCount = len(bagOfWords)\n",
    "    for word, count in wordDict.items():\n",
    "        tfDict[word] = count / float(bagOfWordsCount)\n",
    "    return tfDict"
   ]
  },
  {
   "cell_type": "code",
   "execution_count": 51,
   "metadata": {},
   "outputs": [
    {
     "data": {
      "text/plain": [
       "{'walk': 0.1,\n",
       " 'a': 0.1,\n",
       " 'another': 0.1,\n",
       " 'sat': 0.0,\n",
       " 'to': 0.0,\n",
       " 'dogs': 0.0,\n",
       " 'next': 0.0,\n",
       " 'around': 0.0,\n",
       " 'the': 0.1,\n",
       " 'for': 0.1,\n",
       " 'grill': 0.0,\n",
       " 'man': 0.2,\n",
       " 'dog': 0.0,\n",
       " 'out': 0.1,\n",
       " 'with': 0.1,\n",
       " 'fire': 0.0,\n",
       " 'went': 0.1,\n",
       " 'see': 0.0,\n",
       " 'house': 0.0}"
      ]
     },
     "execution_count": 51,
     "metadata": {},
     "output_type": "execute_result"
    }
   ],
   "source": [
    "computeTF(numOfWordsA, bagOfWordsA)"
   ]
  },
  {
   "cell_type": "code",
   "execution_count": 55,
   "metadata": {},
   "outputs": [
    {
     "data": {
      "text/plain": [
       "{'walk': 0,\n",
       " 'a': 0,\n",
       " 'another': 0,\n",
       " 'sat': 0,\n",
       " 'to': 0,\n",
       " 'dogs': 0,\n",
       " 'next': 0,\n",
       " 'around': 0,\n",
       " 'the': 0,\n",
       " 'for': 0,\n",
       " 'grill': 0,\n",
       " 'man': 0,\n",
       " 'dog': 0,\n",
       " 'out': 0,\n",
       " 'with': 0,\n",
       " 'fire': 0,\n",
       " 'went': 0,\n",
       " 'see': 0,\n",
       " 'house': 0}"
      ]
     },
     "execution_count": 55,
     "metadata": {},
     "output_type": "execute_result"
    }
   ],
   "source": [
    "dict.fromkeys(numOfWordsA.keys(), 0)"
   ]
  },
  {
   "cell_type": "code",
   "execution_count": 54,
   "metadata": {},
   "outputs": [
    {
     "data": {
      "text/plain": [
       "{'walk': 0,\n",
       " 'a': 0,\n",
       " 'another': 0,\n",
       " 'sat': 0,\n",
       " 'to': 0,\n",
       " 'dogs': 0,\n",
       " 'next': 0,\n",
       " 'around': 0,\n",
       " 'the': 0,\n",
       " 'for': 0,\n",
       " 'grill': 0,\n",
       " 'man': 0,\n",
       " 'dog': 0,\n",
       " 'out': 0,\n",
       " 'with': 0,\n",
       " 'fire': 0,\n",
       " 'went': 0,\n",
       " 'see': 0,\n",
       " 'house': 0}"
      ]
     },
     "execution_count": 54,
     "metadata": {},
     "output_type": "execute_result"
    }
   ],
   "source": [
    "dict.fromkeys([numOfWordsA, numOfWordsB][0].keys(), 0)"
   ]
  },
  {
   "cell_type": "code",
   "execution_count": 52,
   "metadata": {},
   "outputs": [],
   "source": [
    "# Inverse Data Frequency (IDF) :\n",
    "# The log of the number of documents divided by the number of documents that contain the word w\n",
    "\n",
    "def computeIDF(documents):\n",
    "    import math\n",
    "    N = len(documents)\n",
    "    \n",
    "    idfDict = dict.fromkeys(documents[0].keys(), 0)\n",
    "    for document in documents:\n",
    "        for word, val in document.items():\n",
    "            if val > 0:\n",
    "                idfDict[word] += 1\n",
    "    \n",
    "    for word, val in idfDict.items():\n",
    "        idfDict[word] = math.log(N / float(val))\n",
    "    return idfDict"
   ]
  },
  {
   "cell_type": "code",
   "execution_count": 56,
   "metadata": {},
   "outputs": [
    {
     "ename": "ZeroDivisionError",
     "evalue": "float division by zero",
     "output_type": "error",
     "traceback": [
      "\u001b[1;31m---------------------------------------------------------------------------\u001b[0m",
      "\u001b[1;31mZeroDivisionError\u001b[0m                         Traceback (most recent call last)",
      "\u001b[1;32m<ipython-input-56-30e7257b79ed>\u001b[0m in \u001b[0;36m<module>\u001b[1;34m\u001b[0m\n\u001b[1;32m----> 1\u001b[1;33m \u001b[0midfs\u001b[0m \u001b[1;33m=\u001b[0m \u001b[0mcomputeIDF\u001b[0m\u001b[1;33m(\u001b[0m\u001b[1;33m[\u001b[0m\u001b[0mnumOfWordsA\u001b[0m\u001b[1;33m,\u001b[0m \u001b[0mnumOfWordsB\u001b[0m\u001b[1;33m]\u001b[0m\u001b[1;33m)\u001b[0m\u001b[1;33m\u001b[0m\u001b[1;33m\u001b[0m\u001b[0m\n\u001b[0m",
      "\u001b[1;32m<ipython-input-52-c1190c320f7e>\u001b[0m in \u001b[0;36mcomputeIDF\u001b[1;34m(documents)\u001b[0m\n\u001b[0;32m     13\u001b[0m \u001b[1;33m\u001b[0m\u001b[0m\n\u001b[0;32m     14\u001b[0m     \u001b[1;32mfor\u001b[0m \u001b[0mword\u001b[0m\u001b[1;33m,\u001b[0m \u001b[0mval\u001b[0m \u001b[1;32min\u001b[0m \u001b[0midfDict\u001b[0m\u001b[1;33m.\u001b[0m\u001b[0mitems\u001b[0m\u001b[1;33m(\u001b[0m\u001b[1;33m)\u001b[0m\u001b[1;33m:\u001b[0m\u001b[1;33m\u001b[0m\u001b[1;33m\u001b[0m\u001b[0m\n\u001b[1;32m---> 15\u001b[1;33m         \u001b[0midfDict\u001b[0m\u001b[1;33m[\u001b[0m\u001b[0mword\u001b[0m\u001b[1;33m]\u001b[0m \u001b[1;33m=\u001b[0m \u001b[0mmath\u001b[0m\u001b[1;33m.\u001b[0m\u001b[0mlog\u001b[0m\u001b[1;33m(\u001b[0m\u001b[0mN\u001b[0m \u001b[1;33m/\u001b[0m \u001b[0mfloat\u001b[0m\u001b[1;33m(\u001b[0m\u001b[0mval\u001b[0m\u001b[1;33m)\u001b[0m\u001b[1;33m)\u001b[0m\u001b[1;33m\u001b[0m\u001b[1;33m\u001b[0m\u001b[0m\n\u001b[0m\u001b[0;32m     16\u001b[0m     \u001b[1;32mreturn\u001b[0m \u001b[0midfDict\u001b[0m\u001b[1;33m\u001b[0m\u001b[1;33m\u001b[0m\u001b[0m\n",
      "\u001b[1;31mZeroDivisionError\u001b[0m: float division by zero"
     ]
    }
   ],
   "source": [
    "idfs = computeIDF([numOfWordsA, numOfWordsB])"
   ]
  },
  {
   "cell_type": "code",
   "execution_count": null,
   "metadata": {},
   "outputs": [],
   "source": []
  }
 ],
 "metadata": {
  "kernelspec": {
   "display_name": "Python 3",
   "language": "python",
   "name": "python3"
  },
  "language_info": {
   "codemirror_mode": {
    "name": "ipython",
    "version": 3
   },
   "file_extension": ".py",
   "mimetype": "text/x-python",
   "name": "python",
   "nbconvert_exporter": "python",
   "pygments_lexer": "ipython3",
   "version": "3.8.3"
  }
 },
 "nbformat": 4,
 "nbformat_minor": 4
}
